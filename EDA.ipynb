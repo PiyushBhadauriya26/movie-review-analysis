{
 "cells": [
  {
   "cell_type": "code",
   "execution_count": 1,
   "id": "c736429a-ceb2-4be6-a248-7a961d406372",
   "metadata": {},
   "outputs": [],
   "source": [
    "#!pip install datasets"
   ]
  },
  {
   "cell_type": "code",
   "execution_count": 2,
   "id": "2534c141-442f-48c0-99de-6fe34e5bd78a",
   "metadata": {},
   "outputs": [],
   "source": [
    "from datasets import load_dataset"
   ]
  },
  {
   "cell_type": "code",
   "execution_count": 3,
   "id": "8ff5da72-3562-4406-a6f2-649b6c6e91ce",
   "metadata": {},
   "outputs": [],
   "source": [
    "dataset = load_dataset(\"cornell-movie-review-data/rotten_tomatoes\")"
   ]
  },
  {
   "cell_type": "markdown",
   "id": "b045f7e4-3362-4175-bf4f-67dbe43d33ad",
   "metadata": {},
   "source": [
    "### Dataset Summary\n",
    "Movie Review Dataset: This dataset contains 5,331 positive and 5,331 negative processed sentences from Rotten Tomatoes movie reviews. This data was initially utilized in the research paper titled \"Seeing stars: Exploiting class relationships for sentiment categorization with respect to rating scales\" by Bo Pang and Lillian Lee, published in the Proceedings of the ACL in 2005."
   ]
  },
  {
   "cell_type": "code",
   "execution_count": 4,
   "id": "18df7b04-24df-4fe0-856f-13497c512c84",
   "metadata": {},
   "outputs": [
    {
     "data": {
      "text/plain": [
       "DatasetDict({\n",
       "    train: Dataset({\n",
       "        features: ['text', 'label'],\n",
       "        num_rows: 8530\n",
       "    })\n",
       "    validation: Dataset({\n",
       "        features: ['text', 'label'],\n",
       "        num_rows: 1066\n",
       "    })\n",
       "    test: Dataset({\n",
       "        features: ['text', 'label'],\n",
       "        num_rows: 1066\n",
       "    })\n",
       "})"
      ]
     },
     "execution_count": 4,
     "metadata": {},
     "output_type": "execute_result"
    }
   ],
   "source": [
    "dataset"
   ]
  },
  {
   "cell_type": "markdown",
   "id": "feab5ace-aceb-481f-959e-9a436c3582af",
   "metadata": {},
   "source": [
    "#### This dataset is similar to a Python dictionary, where each key corresponds to a different split. We can use the usual dictionary syntax to access an individual split."
   ]
  },
  {
   "cell_type": "code",
   "execution_count": 5,
   "id": "7abadc34-d3fd-4a90-8a7c-3212b86e5f38",
   "metadata": {},
   "outputs": [
    {
     "data": {
      "text/plain": [
       "Dataset({\n",
       "    features: ['text', 'label'],\n",
       "    num_rows: 8530\n",
       "})"
      ]
     },
     "execution_count": 5,
     "metadata": {},
     "output_type": "execute_result"
    }
   ],
   "source": [
    "train_ds = dataset[\"train\"]\n",
    "train_ds"
   ]
  },
  {
   "cell_type": "code",
   "execution_count": 6,
   "id": "cae6f757-645f-49af-a460-8b12950f354b",
   "metadata": {},
   "outputs": [
    {
     "data": {
      "text/plain": [
       "{'text': 'the rock is destined to be the 21st century\\'s new \" conan \" and that he\\'s going to make a splash even greater than arnold schwarzenegger , jean-claud van damme or steven segal .',\n",
       " 'label': 1}"
      ]
     },
     "execution_count": 6,
     "metadata": {},
     "output_type": "execute_result"
    }
   ],
   "source": [
    "train_ds[0]"
   ]
  },
  {
   "cell_type": "code",
   "execution_count": 7,
   "id": "95e8e315-bc31-4ceb-bd22-78b2b4eb250a",
   "metadata": {},
   "outputs": [
    {
     "name": "stdout",
     "output_type": "stream",
     "text": [
      "{'text': Value(dtype='string', id=None), 'label': ClassLabel(names=['neg', 'pos'], id=None)}\n"
     ]
    }
   ],
   "source": [
    "print(train_ds.features)"
   ]
  },
  {
   "cell_type": "code",
   "execution_count": 8,
   "id": "61753388-1d84-419b-a226-f16021b05c13",
   "metadata": {},
   "outputs": [
    {
     "data": {
      "text/html": [
       "<div>\n",
       "<style scoped>\n",
       "    .dataframe tbody tr th:only-of-type {\n",
       "        vertical-align: middle;\n",
       "    }\n",
       "\n",
       "    .dataframe tbody tr th {\n",
       "        vertical-align: top;\n",
       "    }\n",
       "\n",
       "    .dataframe thead th {\n",
       "        text-align: right;\n",
       "    }\n",
       "</style>\n",
       "<table border=\"1\" class=\"dataframe\">\n",
       "  <thead>\n",
       "    <tr style=\"text-align: right;\">\n",
       "      <th></th>\n",
       "      <th>text</th>\n",
       "      <th>label</th>\n",
       "    </tr>\n",
       "  </thead>\n",
       "  <tbody>\n",
       "    <tr>\n",
       "      <th>0</th>\n",
       "      <td>the rock is destined to be the 21st century's ...</td>\n",
       "      <td>1</td>\n",
       "    </tr>\n",
       "    <tr>\n",
       "      <th>1</th>\n",
       "      <td>the gorgeously elaborate continuation of \" the...</td>\n",
       "      <td>1</td>\n",
       "    </tr>\n",
       "    <tr>\n",
       "      <th>2</th>\n",
       "      <td>effective but too-tepid biopic</td>\n",
       "      <td>1</td>\n",
       "    </tr>\n",
       "    <tr>\n",
       "      <th>3</th>\n",
       "      <td>if you sometimes like to go to the movies to h...</td>\n",
       "      <td>1</td>\n",
       "    </tr>\n",
       "    <tr>\n",
       "      <th>4</th>\n",
       "      <td>emerges as something rare , an issue movie tha...</td>\n",
       "      <td>1</td>\n",
       "    </tr>\n",
       "  </tbody>\n",
       "</table>\n",
       "</div>"
      ],
      "text/plain": [
       "                                                text  label\n",
       "0  the rock is destined to be the 21st century's ...      1\n",
       "1  the gorgeously elaborate continuation of \" the...      1\n",
       "2                     effective but too-tepid biopic      1\n",
       "3  if you sometimes like to go to the movies to h...      1\n",
       "4  emerges as something rare , an issue movie tha...      1"
      ]
     },
     "execution_count": 8,
     "metadata": {},
     "output_type": "execute_result"
    }
   ],
   "source": [
    "import pandas as pd\n",
    "\n",
    "dataset.set_format(type=\"pandas\")\n",
    "df = dataset[\"train\"][:]\n",
    "df.head()"
   ]
  },
  {
   "cell_type": "code",
   "execution_count": 9,
   "id": "f33b2e36-3bcf-433e-8890-8e028b3e45b0",
   "metadata": {},
   "outputs": [
    {
     "name": "stdout",
     "output_type": "stream",
     "text": [
      "(8530, 2)\n",
      "text     object\n",
      "label     int64\n",
      "dtype: object\n"
     ]
    }
   ],
   "source": [
    "print(df.shape)\n",
    "print(df.dtypes)"
   ]
  },
  {
   "cell_type": "markdown",
   "id": "230a8578-01ca-444c-bb68-be43d5df45d2",
   "metadata": {},
   "source": [
    "#### In the `df` DataFrame, labels are represented as integers. We utilize the `int2str()` method to generate a new column in our DataFrame containing the corresponding label names."
   ]
  },
  {
   "cell_type": "code",
   "execution_count": 10,
   "id": "b6cab87c-f408-4a4e-bbbd-702ae0e925f1",
   "metadata": {},
   "outputs": [
    {
     "data": {
      "text/html": [
       "<div>\n",
       "<style scoped>\n",
       "    .dataframe tbody tr th:only-of-type {\n",
       "        vertical-align: middle;\n",
       "    }\n",
       "\n",
       "    .dataframe tbody tr th {\n",
       "        vertical-align: top;\n",
       "    }\n",
       "\n",
       "    .dataframe thead th {\n",
       "        text-align: right;\n",
       "    }\n",
       "</style>\n",
       "<table border=\"1\" class=\"dataframe\">\n",
       "  <thead>\n",
       "    <tr style=\"text-align: right;\">\n",
       "      <th></th>\n",
       "      <th>text</th>\n",
       "      <th>label</th>\n",
       "      <th>label_name</th>\n",
       "    </tr>\n",
       "  </thead>\n",
       "  <tbody>\n",
       "    <tr>\n",
       "      <th>0</th>\n",
       "      <td>the rock is destined to be the 21st century's ...</td>\n",
       "      <td>1</td>\n",
       "      <td>pos</td>\n",
       "    </tr>\n",
       "    <tr>\n",
       "      <th>1</th>\n",
       "      <td>the gorgeously elaborate continuation of \" the...</td>\n",
       "      <td>1</td>\n",
       "      <td>pos</td>\n",
       "    </tr>\n",
       "    <tr>\n",
       "      <th>2</th>\n",
       "      <td>effective but too-tepid biopic</td>\n",
       "      <td>1</td>\n",
       "      <td>pos</td>\n",
       "    </tr>\n",
       "    <tr>\n",
       "      <th>3</th>\n",
       "      <td>if you sometimes like to go to the movies to h...</td>\n",
       "      <td>1</td>\n",
       "      <td>pos</td>\n",
       "    </tr>\n",
       "    <tr>\n",
       "      <th>4</th>\n",
       "      <td>emerges as something rare , an issue movie tha...</td>\n",
       "      <td>1</td>\n",
       "      <td>pos</td>\n",
       "    </tr>\n",
       "  </tbody>\n",
       "</table>\n",
       "</div>"
      ],
      "text/plain": [
       "                                                text  label label_name\n",
       "0  the rock is destined to be the 21st century's ...      1        pos\n",
       "1  the gorgeously elaborate continuation of \" the...      1        pos\n",
       "2                     effective but too-tepid biopic      1        pos\n",
       "3  if you sometimes like to go to the movies to h...      1        pos\n",
       "4  emerges as something rare , an issue movie tha...      1        pos"
      ]
     },
     "execution_count": 10,
     "metadata": {},
     "output_type": "execute_result"
    }
   ],
   "source": [
    "def label_int2str(row):\n",
    "    return dataset[\"train\"].features[\"label\"].int2str(row)\n",
    "\n",
    "df[\"label_name\"] = df[\"label\"].apply(label_int2str)\n",
    "df.head()"
   ]
  },
  {
   "cell_type": "code",
   "execution_count": 11,
   "id": "92c2e248-c9e4-4894-8042-8d4a06f7b98c",
   "metadata": {},
   "outputs": [
    {
     "data": {
      "image/png": "[encoded data removed]",
      "text/plain": [
       "<Figure size 640x480 with 1 Axes>"
      ]
     },
     "metadata": {},
     "output_type": "display_data"
    }
   ],
   "source": [
    "import matplotlib.pyplot as plt\n",
    "\n",
    "df[\"label_name\"].value_counts(ascending=True).plot.barh()\n",
    "plt.title(\"Frequency of Classes\")\n",
    "plt.show()"
   ]
  },
  {
   "cell_type": "markdown",
   "id": "34857ff9-d06e-4094-a471-95babbeca09e",
   "metadata": {},
   "source": [
    "#### The dataset is balanced with 4265 positive and 4265 negative reviews."
   ]
  },
  {
   "cell_type": "code",
   "execution_count": 12,
   "id": "e683ec24-c6b7-4197-aeb3-e6443836d774",
   "metadata": {},
   "outputs": [
    {
     "data": {
      "text/plain": [
       "1    4265\n",
       "0    4265\n",
       "Name: label, dtype: int64"
      ]
     },
     "execution_count": 12,
     "metadata": {},
     "output_type": "execute_result"
    }
   ],
   "source": [
    "# Check for label count\n",
    "df[\"label\"].value_counts()"
   ]
  },
  {
   "cell_type": "code",
   "execution_count": 30,
   "id": "51d7b4a0-f36c-4f46-bde0-12e102ed17eb",
   "metadata": {},
   "outputs": [
    {
     "data": {
      "image/png": "[encoded data removed]",
      "text/plain": [
       "<Figure size 640x480 with 1 Axes>"
      ]
     },
     "metadata": {},
     "output_type": "display_data"
    }
   ],
   "source": [
    "df[\"Words Count\"] = df[\"text\"].str.split().apply(len)\n",
    "df.boxplot(\"Words Count\", by=\"label_name\", grid=False, showfliers=False,\n",
    "           color=\"black\")\n",
    "plt.suptitle(\"\")\n",
    "plt.xlabel(\"\")\n",
    "plt.show()"
   ]
  },
  {
   "cell_type": "markdown",
   "id": "2f27b9df-0b94-4bc5-9db7-b6c720fda1c1",
   "metadata": {},
   "source": [
    "#### Most reviews are approximately 20 words in length, with a similar word count distribution for both positive and negative reviews."
   ]
  },
  {
   "cell_type": "code",
   "execution_count": 31,
   "id": "964d6d66-5f7f-48e7-a185-8f7ba234bedd",
   "metadata": {},
   "outputs": [
    {
     "data": {
      "text/plain": [
       "text                0\n",
       "label               0\n",
       "label_name          0\n",
       "Words Per Review    0\n",
       "Words Count         0\n",
       "dtype: int64"
      ]
     },
     "execution_count": 31,
     "metadata": {},
     "output_type": "execute_result"
    }
   ],
   "source": [
    "df.isnull().sum()"
   ]
  },
  {
   "cell_type": "code",
   "execution_count": 32,
   "id": "4586d66f-ed95-48db-a272-6baade8bcfdb",
   "metadata": {},
   "outputs": [
    {
     "data": {
      "text/plain": [
       "text                0\n",
       "label               0\n",
       "label_name          0\n",
       "Words Per Review    0\n",
       "Words Count         0\n",
       "dtype: int64"
      ]
     },
     "execution_count": 32,
     "metadata": {},
     "output_type": "execute_result"
    }
   ],
   "source": [
    "df.isna().sum()"
   ]
  },
  {
   "cell_type": "markdown",
   "id": "54bb78cc-b038-4f0d-bf2a-f2ea1c60228b",
   "metadata": {},
   "source": [
    "#### There are no missing values."
   ]
  },
  {
   "cell_type": "code",
   "execution_count": 33,
   "id": "12eb46b7-4784-4f3f-9e5b-9a157bc2db1b",
   "metadata": {},
   "outputs": [
    {
     "data": {
      "text/plain": [
       "rock destined 21st century 's new `` conan `` 's going make splash even greater arnold schwarzenegger , jean-claud van damme steven segal .        1\n",
       "conforms creating game 'who 's ' . . . characters ' moves often predictable consequences .                                                         1\n",
       "'s film idea buried somewhere inside fabric , never clearly seen felt .                                                                            1\n",
       "horror movie seriously dumb characters , somewhat dilutes pleasure watching stalked creepy-crawly bug things live darkness .                       1\n",
       "pap invested undergraduate doubling subtexts ridiculous stabs existentialism reminding discovery wizard god fifth trek flick .                     1\n",
       "                                                                                                                                                  ..\n",
       "caffeinated , sloppy brilliance , sparkling ideas wish developed care , animated energy puts dutiful efforts disciplined grade-grubbers shame .    1\n",
       "'s shame marvelous first 101 minutes combined misconceived final 5 .                                                                               1\n",
       "brings awareness issue often overlooked -- women 's depression .                                                                                   1\n",
       "'re couple cops copmovieland , two , narc , find new routes familiar neighborhood .                                                                1\n",
       "things really get weird , though particularly scary : movie portent content .                                                                      1\n",
       "Name: text, Length: 8530, dtype: int64"
      ]
     },
     "execution_count": 33,
     "metadata": {},
     "output_type": "execute_result"
    }
   ],
   "source": [
    "# search for duplicates\n",
    "df[\"text\"].value_counts()"
   ]
  },
  {
   "cell_type": "markdown",
   "id": "5b5e832a-74ae-408b-873b-0e0565cf0ccb",
   "metadata": {},
   "source": [
    "#### There are no duplicates as the value count begins and concludes with a frequency of 1."
   ]
  },
  {
   "cell_type": "code",
   "execution_count": 34,
   "id": "05997a72-11fe-4c19-a4aa-cc908c2d165d",
   "metadata": {},
   "outputs": [
    {
     "name": "stdout",
     "output_type": "stream",
     "text": [
      "Original Text: emerges something rare , issue movie 's honest keenly observed n't feel like one .\n",
      "Text after Stopword Removal: emerges something rare , issue movie 's honest keenly observed n't feel like one .\n"
     ]
    }
   ],
   "source": [
    "from sklearn.feature_extraction.text import CountVectorizer\n",
    "from nltk.corpus import stopwords\n",
    "from nltk.tokenize import word_tokenize\n",
    "\n",
    "def preprocessing(text):     \n",
    "    # Tokenize the text using NLTK\n",
    "    new_words = word_tokenize(text)\n",
    "     \n",
    "    # Remove stopwords using NLTK\n",
    "    new_filtered_words = [word for word in new_words if word.lower() not in stopwords.words('english')]\n",
    "     \n",
    "    # Join the filtered words to form a clean text\n",
    "    new_clean_text = ' '.join(new_filtered_words)\n",
    "    return new_clean_text\n",
    "\n",
    "text = df[\"text\"][4]\n",
    "print(\"Original Text:\", text)\n",
    "new_clean_text = preprocessing(text)\n",
    "print(\"Text after Stopword Removal:\", new_clean_text)"
   ]
  },
  {
   "cell_type": "code",
   "execution_count": 35,
   "id": "96b3229e-d372-4b11-ac0c-c123621858f5",
   "metadata": {},
   "outputs": [
    {
     "data": {
      "text/html": [
       "<div>\n",
       "<style scoped>\n",
       "    .dataframe tbody tr th:only-of-type {\n",
       "        vertical-align: middle;\n",
       "    }\n",
       "\n",
       "    .dataframe tbody tr th {\n",
       "        vertical-align: top;\n",
       "    }\n",
       "\n",
       "    .dataframe thead th {\n",
       "        text-align: right;\n",
       "    }\n",
       "</style>\n",
       "<table border=\"1\" class=\"dataframe\">\n",
       "  <thead>\n",
       "    <tr style=\"text-align: right;\">\n",
       "      <th></th>\n",
       "      <th>text</th>\n",
       "      <th>label</th>\n",
       "      <th>label_name</th>\n",
       "      <th>Words Per Review</th>\n",
       "      <th>Words Count</th>\n",
       "    </tr>\n",
       "  </thead>\n",
       "  <tbody>\n",
       "    <tr>\n",
       "      <th>0</th>\n",
       "      <td>rock destined 21st century 's new `` conan `` ...</td>\n",
       "      <td>1</td>\n",
       "      <td>pos</td>\n",
       "      <td>34</td>\n",
       "      <td>24</td>\n",
       "    </tr>\n",
       "    <tr>\n",
       "      <th>1</th>\n",
       "      <td>gorgeously elaborate continuation `` lord ring...</td>\n",
       "      <td>1</td>\n",
       "      <td>pos</td>\n",
       "      <td>39</td>\n",
       "      <td>29</td>\n",
       "    </tr>\n",
       "    <tr>\n",
       "      <th>2</th>\n",
       "      <td>effective too-tepid biopic</td>\n",
       "      <td>1</td>\n",
       "      <td>pos</td>\n",
       "      <td>4</td>\n",
       "      <td>3</td>\n",
       "    </tr>\n",
       "    <tr>\n",
       "      <th>3</th>\n",
       "      <td>sometimes like go movies fun , wasabi good pla...</td>\n",
       "      <td>1</td>\n",
       "      <td>pos</td>\n",
       "      <td>21</td>\n",
       "      <td>11</td>\n",
       "    </tr>\n",
       "    <tr>\n",
       "      <th>4</th>\n",
       "      <td>emerges something rare , issue movie 's honest...</td>\n",
       "      <td>1</td>\n",
       "      <td>pos</td>\n",
       "      <td>21</td>\n",
       "      <td>15</td>\n",
       "    </tr>\n",
       "  </tbody>\n",
       "</table>\n",
       "</div>"
      ],
      "text/plain": [
       "                                                text  label label_name  \\\n",
       "0  rock destined 21st century 's new `` conan `` ...      1        pos   \n",
       "1  gorgeously elaborate continuation `` lord ring...      1        pos   \n",
       "2                         effective too-tepid biopic      1        pos   \n",
       "3  sometimes like go movies fun , wasabi good pla...      1        pos   \n",
       "4  emerges something rare , issue movie 's honest...      1        pos   \n",
       "\n",
       "   Words Per Review  Words Count  \n",
       "0                34           24  \n",
       "1                39           29  \n",
       "2                 4            3  \n",
       "3                21           11  \n",
       "4                21           15  "
      ]
     },
     "execution_count": 35,
     "metadata": {},
     "output_type": "execute_result"
    }
   ],
   "source": [
    "df[\"text\"] = df[\"text\"].apply(preprocessing)\n",
    "df.head()"
   ]
  },
  {
   "cell_type": "code",
   "execution_count": 36,
   "id": "7cf4cead-e60b-4fa8-a37e-feae174d39d2",
   "metadata": {},
   "outputs": [
    {
     "data": {
      "text/html": [
       "<div>\n",
       "<style scoped>\n",
       "    .dataframe tbody tr th:only-of-type {\n",
       "        vertical-align: middle;\n",
       "    }\n",
       "\n",
       "    .dataframe tbody tr th {\n",
       "        vertical-align: top;\n",
       "    }\n",
       "\n",
       "    .dataframe thead th {\n",
       "        text-align: right;\n",
       "    }\n",
       "</style>\n",
       "<table border=\"1\" class=\"dataframe\">\n",
       "  <thead>\n",
       "    <tr style=\"text-align: right;\">\n",
       "      <th></th>\n",
       "      <th>text</th>\n",
       "      <th>label</th>\n",
       "      <th>label_name</th>\n",
       "      <th>Words Per Review</th>\n",
       "      <th>Words Count</th>\n",
       "    </tr>\n",
       "  </thead>\n",
       "  <tbody>\n",
       "    <tr>\n",
       "      <th>8525</th>\n",
       "      <td>enjoyment hinge personal threshold watching sa...</td>\n",
       "      <td>0</td>\n",
       "      <td>neg</td>\n",
       "      <td>20</td>\n",
       "      <td>12</td>\n",
       "    </tr>\n",
       "    <tr>\n",
       "      <th>8526</th>\n",
       "      <td>legendary shlockmeister ed wood ever made movi...</td>\n",
       "      <td>0</td>\n",
       "      <td>neg</td>\n",
       "      <td>34</td>\n",
       "      <td>25</td>\n",
       "    </tr>\n",
       "    <tr>\n",
       "      <th>8527</th>\n",
       "      <td>hardly nuanced portrait young woman 's breakdo...</td>\n",
       "      <td>0</td>\n",
       "      <td>neg</td>\n",
       "      <td>19</td>\n",
       "      <td>13</td>\n",
       "    </tr>\n",
       "    <tr>\n",
       "      <th>8528</th>\n",
       "      <td>interminably bleak , say nothing boring .</td>\n",
       "      <td>0</td>\n",
       "      <td>neg</td>\n",
       "      <td>9</td>\n",
       "      <td>7</td>\n",
       "    </tr>\n",
       "    <tr>\n",
       "      <th>8529</th>\n",
       "      <td>things really get weird , though particularly ...</td>\n",
       "      <td>0</td>\n",
       "      <td>neg</td>\n",
       "      <td>19</td>\n",
       "      <td>13</td>\n",
       "    </tr>\n",
       "  </tbody>\n",
       "</table>\n",
       "</div>"
      ],
      "text/plain": [
       "                                                   text  label label_name  \\\n",
       "8525  enjoyment hinge personal threshold watching sa...      0        neg   \n",
       "8526  legendary shlockmeister ed wood ever made movi...      0        neg   \n",
       "8527  hardly nuanced portrait young woman 's breakdo...      0        neg   \n",
       "8528          interminably bleak , say nothing boring .      0        neg   \n",
       "8529  things really get weird , though particularly ...      0        neg   \n",
       "\n",
       "      Words Per Review  Words Count  \n",
       "8525                20           12  \n",
       "8526                34           25  \n",
       "8527                19           13  \n",
       "8528                 9            7  \n",
       "8529                19           13  "
      ]
     },
     "execution_count": 36,
     "metadata": {},
     "output_type": "execute_result"
    }
   ],
   "source": [
    "df.tail()"
   ]
  },
  {
   "cell_type": "code",
   "execution_count": 37,
   "id": "23689762-baa2-4108-87a6-e8bc7bcc1a63",
   "metadata": {},
   "outputs": [
    {
     "name": "stdout",
     "output_type": "stream",
     "text": [
      "(8530, 16173)\n"
     ]
    }
   ],
   "source": [
    "from sklearn.feature_extraction.text import TfidfVectorizer\n",
    "tfidfV = TfidfVectorizer(stop_words = 'english')\n",
    "vecTor=  tfidfV.fit_transform(df[\"text\"])\n",
    "print(vecTor.shape)"
   ]
  },
  {
   "cell_type": "code",
   "execution_count": 38,
   "id": "cf015b45-1c70-401f-8344-2395978fda20",
   "metadata": {},
   "outputs": [
    {
     "name": "stdout",
     "output_type": "stream",
     "text": [
      "  (0, 12078)\t0.20542244227534653\n",
      "  (0, 3807)\t0.250375339742423\n",
      "  (0, 86)\t0.2551369562463637\n",
      "  (0, 2237)\t0.21500293084046376\n",
      "  (0, 9587)\t0.15184171838658697\n",
      "  (0, 2842)\t0.2676615156755108\n",
      "  (0, 6171)\t0.1767096674335419\n",
      "  (0, 8673)\t0.14332096092577665\n",
      "  (0, 13430)\t0.2551369562463637\n",
      "  (0, 6300)\t0.24625063991218146\n",
      "  (0, 843)\t0.22896446397909373\n",
      "  (0, 12435)\t0.2393578774678229\n",
      "  (0, 7766)\t0.2393578774678229\n",
      "  (0, 2520)\t0.28907239143884006\n",
      "  (0, 15406)\t0.2312536121273612\n",
      "  (0, 3428)\t0.27654783200969296\n",
      "  (0, 13647)\t0.2179470017044936\n",
      "  (0, 12562)\t0.28907239143884006\n"
     ]
    }
   ],
   "source": [
    "print(vecTor[0])"
   ]
  },
  {
   "cell_type": "code",
   "execution_count": 39,
   "id": "34459086-95de-432e-a14c-9472b29849ac",
   "metadata": {},
   "outputs": [
    {
     "name": "stdout",
     "output_type": "stream",
     "text": [
      "(8530, 1000)\n"
     ]
    }
   ],
   "source": [
    "tfidfV_1000 = TfidfVectorizer(max_features = 1000, stop_words = 'english')\n",
    "vecTor_1000=  tfidfV_1000.fit_transform(df[\"text\"])\n",
    "# print(df.shape)\n",
    "print(vecTor_1000.shape)"
   ]
  },
  {
   "cell_type": "code",
   "execution_count": 40,
   "id": "9ff543ff-e402-4706-a4e7-0195b8b0ac5c",
   "metadata": {},
   "outputs": [
    {
     "name": "stdout",
     "output_type": "stream",
     "text": [
      "  (0, 718)\t0.4474716137670591\n",
      "  (0, 104)\t0.46834078770650434\n",
      "  (0, 574)\t0.3307567469796541\n",
      "  (0, 357)\t0.3849265892221217\n",
      "  (0, 509)\t0.31219598482886696\n",
      "  (0, 811)\t0.47475385594763736\n"
     ]
    }
   ],
   "source": [
    "print(vecTor_1000[0])"
   ]
  },
  {
   "cell_type": "code",
   "execution_count": null,
   "id": "fe839116-20d2-4fd7-ab57-99dd63f28ff5",
   "metadata": {},
   "outputs": [],
   "source": []
  }
 ],
 "metadata": {
  "kernelspec": {
   "display_name": "Python 3 (ipykernel)",
   "language": "python",
   "name": "python3"
  },
  "language_info": {
   "codemirror_mode": {
    "name": "ipython",
    "version": 3
   },
   "file_extension": ".py",
   "mimetype": "text/x-python",
   "name": "python",
   "nbconvert_exporter": "python",
   "pygments_lexer": "ipython3",
   "version": "3.10.8"
  }
 },
 "nbformat": 4,
 "nbformat_minor": 5
}
