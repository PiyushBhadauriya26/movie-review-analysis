{
 "cells": [
  {
   "cell_type": "code",
   "execution_count": 3,
   "id": "c736429a-ceb2-4be6-a248-7a961d406372",
   "metadata": {},
   "outputs": [],
   "source": [
    "#!pip install datasets"
   ]
  },
  {
   "cell_type": "markdown",
   "id": "b045f7e4-3362-4175-bf4f-67dbe43d33ad",
   "metadata": {},
   "source": [
    "Dataset Summary\n",
    "Movie Review Dataset. This is a dataset of containing 5,331 positive and 5,331 negative processed sentences from Rotten Tomatoes movie reviews. This data was first used in Bo Pang and Lillian Lee, ``Seeing stars: Exploiting class relationships for sentiment categorization with respect to rating scales.'', Proceedings of the ACL, 2005."
   ]
  },
  {
   "cell_type": "code",
   "execution_count": 2,
   "id": "2534c141-442f-48c0-99de-6fe34e5bd78a",
   "metadata": {},
   "outputs": [],
   "source": [
    "from datasets import load_dataset"
   ]
  },
  {
   "cell_type": "code",
   "execution_count": 3,
   "id": "8ff5da72-3562-4406-a6f2-649b6c6e91ce",
   "metadata": {},
   "outputs": [],
   "source": [
    "dataset = load_dataset(\"cornell-movie-review-data/rotten_tomatoes\")"
   ]
  },
  {
   "cell_type": "code",
   "execution_count": 4,
   "id": "18df7b04-24df-4fe0-856f-13497c512c84",
   "metadata": {},
   "outputs": [
    {
     "data": {
      "text/plain": [
       "DatasetDict({\n",
       "    train: Dataset({\n",
       "        features: ['text', 'label'],\n",
       "        num_rows: 8530\n",
       "    })\n",
       "    validation: Dataset({\n",
       "        features: ['text', 'label'],\n",
       "        num_rows: 1066\n",
       "    })\n",
       "    test: Dataset({\n",
       "        features: ['text', 'label'],\n",
       "        num_rows: 1066\n",
       "    })\n",
       "})"
      ]
     },
     "execution_count": 4,
     "metadata": {},
     "output_type": "execute_result"
    }
   ],
   "source": [
    "dataset"
   ]
  },
  {
   "cell_type": "code",
   "execution_count": 17,
   "id": "f33b2e36-3bcf-433e-8890-8e028b3e45b0",
   "metadata": {},
   "outputs": [
    {
     "name": "stdout",
     "output_type": "stream",
     "text": [
      "                                                text  label\n",
      "0  the rock is destined to be the 21st century's ...      1\n",
      "1  the gorgeously elaborate continuation of \" the...      1\n",
      "2                     effective but too-tepid biopic      1\n",
      "3  if you sometimes like to go to the movies to h...      1\n",
      "4  emerges as something rare , an issue movie tha...      1\n",
      "(8530, 2)\n",
      "text     object\n",
      "label     int64\n",
      "dtype: object\n"
     ]
    }
   ],
   "source": [
    "import pandas as pd\n",
    "df = pd.DataFrame(dataset[\"train\"])\n",
    "print(df.head())\n",
    "print(df.shape)\n",
    "print(df.dtypes)"
   ]
  },
  {
   "cell_type": "code",
   "execution_count": 6,
   "id": "964d6d66-5f7f-48e7-a185-8f7ba234bedd",
   "metadata": {},
   "outputs": [
    {
     "data": {
      "text/plain": [
       "text     0\n",
       "label    0\n",
       "dtype: int64"
      ]
     },
     "execution_count": 6,
     "metadata": {},
     "output_type": "execute_result"
    }
   ],
   "source": [
    "df.isnull().sum()"
   ]
  },
  {
   "cell_type": "code",
   "execution_count": 7,
   "id": "4586d66f-ed95-48db-a272-6baade8bcfdb",
   "metadata": {},
   "outputs": [
    {
     "data": {
      "text/plain": [
       "text     0\n",
       "label    0\n",
       "dtype: int64"
      ]
     },
     "execution_count": 7,
     "metadata": {},
     "output_type": "execute_result"
    }
   ],
   "source": [
    "df.isna().sum()"
   ]
  },
  {
   "cell_type": "code",
   "execution_count": 16,
   "id": "12eb46b7-4784-4f3f-9e5b-9a157bc2db1b",
   "metadata": {},
   "outputs": [
    {
     "data": {
      "text/plain": [
       "the rock is destined to be the 21st century's new \" conan \" and that he's going to make a splash even greater than arnold schwarzenegger , jean-claud van damme or steven segal .                                     1\n",
       "conforms itself with creating a game of 'who's who' . . . where the characters' moves are often more predictable than their consequences .                                                                            1\n",
       "it's a film with an idea buried somewhere inside its fabric , but never clearly seen or felt .                                                                                                                        1\n",
       "a horror movie with seriously dumb characters , which somewhat dilutes the pleasure of watching them stalked by creepy-crawly bug things that live only in the darkness .                                             1\n",
       "pap invested in undergraduate doubling subtexts and ridiculous stabs at existentialism reminding of the discovery of the wizard of god in the fifth trek flick .                                                      1\n",
       "                                                                                                                                                                                                                     ..\n",
       "it has a caffeinated , sloppy brilliance , sparkling with ideas you wish had been developed with more care , but animated by an energy that puts the dutiful efforts of more disciplined grade-grubbers to shame .    1\n",
       "it's a shame the marvelous first 101 minutes have to be combined with the misconceived final 5 .                                                                                                                      1\n",
       "brings awareness to an issue often overlooked -- women's depression .                                                                                                                                                 1\n",
       "they're just a couple of cops in copmovieland , these two , but in narc , they find new routes through a familiar neighborhood .                                                                                      1\n",
       "things really get weird , though not particularly scary : the movie is all portent and no content .                                                                                                                   1\n",
       "Name: text, Length: 8530, dtype: int64"
      ]
     },
     "execution_count": 16,
     "metadata": {},
     "output_type": "execute_result"
    }
   ],
   "source": [
    "# search for duplicates\n",
    "\n",
    "df[\"text\"].value_counts()"
   ]
  },
  {
   "cell_type": "code",
   "execution_count": 18,
   "id": "05997a72-11fe-4c19-a4aa-cc908c2d165d",
   "metadata": {},
   "outputs": [
    {
     "name": "stdout",
     "output_type": "stream",
     "text": [
      "Original Text: the rock is destined to be the 21st century's new \" conan \" and that he's going to make a splash even greater than arnold schwarzenegger , jean-claud van damme or steven segal .\n",
      "Text after Stopword Removal: rock destined 21st century 's new `` conan `` 's going make splash even greater arnold schwarzenegger , jean-claud van damme steven segal .\n"
     ]
    }
   ],
   "source": [
    "from sklearn.feature_extraction.text import CountVectorizer\n",
    "from nltk.corpus import stopwords\n",
    "from nltk.tokenize import word_tokenize\n",
    "\n",
    "def preprocessing(text):     \n",
    "    # Tokenize the new text using NLTK\n",
    "    new_words = word_tokenize(text)\n",
    "     \n",
    "    # Remove stopwords using NLTK\n",
    "    new_filtered_words = [\n",
    "        word for word in new_words if word.lower() not in stopwords.words('english')]\n",
    "     \n",
    "    # Join the filtered words to form a clean text\n",
    "    new_clean_text = ' '.join(new_filtered_words)\n",
    "    return new_clean_text\n",
    "\n",
    "text = df[\"text\"][0]\n",
    "print(\"Original Text:\", text)\n",
    "new_clean_text = preprocessing(text)\n",
    "print(\"Text after Stopword Removal:\", new_clean_text)"
   ]
  },
  {
   "cell_type": "code",
   "execution_count": 19,
   "id": "96b3229e-d372-4b11-ac0c-c123621858f5",
   "metadata": {},
   "outputs": [
    {
     "data": {
      "text/html": [
       "<div>\n",
       "<style scoped>\n",
       "    .dataframe tbody tr th:only-of-type {\n",
       "        vertical-align: middle;\n",
       "    }\n",
       "\n",
       "    .dataframe tbody tr th {\n",
       "        vertical-align: top;\n",
       "    }\n",
       "\n",
       "    .dataframe thead th {\n",
       "        text-align: right;\n",
       "    }\n",
       "</style>\n",
       "<table border=\"1\" class=\"dataframe\">\n",
       "  <thead>\n",
       "    <tr style=\"text-align: right;\">\n",
       "      <th></th>\n",
       "      <th>text</th>\n",
       "      <th>label</th>\n",
       "    </tr>\n",
       "  </thead>\n",
       "  <tbody>\n",
       "    <tr>\n",
       "      <th>0</th>\n",
       "      <td>rock destined 21st century 's new `` conan `` ...</td>\n",
       "      <td>1</td>\n",
       "    </tr>\n",
       "    <tr>\n",
       "      <th>1</th>\n",
       "      <td>gorgeously elaborate continuation `` lord ring...</td>\n",
       "      <td>1</td>\n",
       "    </tr>\n",
       "    <tr>\n",
       "      <th>2</th>\n",
       "      <td>effective too-tepid biopic</td>\n",
       "      <td>1</td>\n",
       "    </tr>\n",
       "    <tr>\n",
       "      <th>3</th>\n",
       "      <td>sometimes like go movies fun , wasabi good pla...</td>\n",
       "      <td>1</td>\n",
       "    </tr>\n",
       "    <tr>\n",
       "      <th>4</th>\n",
       "      <td>emerges something rare , issue movie 's honest...</td>\n",
       "      <td>1</td>\n",
       "    </tr>\n",
       "  </tbody>\n",
       "</table>\n",
       "</div>"
      ],
      "text/plain": [
       "                                                text  label\n",
       "0  rock destined 21st century 's new `` conan `` ...      1\n",
       "1  gorgeously elaborate continuation `` lord ring...      1\n",
       "2                         effective too-tepid biopic      1\n",
       "3  sometimes like go movies fun , wasabi good pla...      1\n",
       "4  emerges something rare , issue movie 's honest...      1"
      ]
     },
     "execution_count": 19,
     "metadata": {},
     "output_type": "execute_result"
    }
   ],
   "source": [
    "df[\"text\"] = df[\"text\"].apply(preprocessing)\n",
    "df.head()"
   ]
  },
  {
   "cell_type": "code",
   "execution_count": 20,
   "id": "34459086-95de-432e-a14c-9472b29849ac",
   "metadata": {},
   "outputs": [
    {
     "name": "stdout",
     "output_type": "stream",
     "text": [
      "(8530, 2)\n",
      "(8530, 1000)\n"
     ]
    }
   ],
   "source": [
    "from sklearn.feature_extraction.text import TfidfVectorizer\n",
    "tfidfV = TfidfVectorizer(max_features = 1000, stop_words = 'english')\n",
    "vecTor=  tfidfV.fit_transform(df[\"text\"])\n",
    "print(df.shape)\n",
    "print(vecTor.shape)"
   ]
  },
  {
   "cell_type": "code",
   "execution_count": 14,
   "id": "9ff543ff-e402-4706-a4e7-0195b8b0ac5c",
   "metadata": {},
   "outputs": [
    {
     "name": "stdout",
     "output_type": "stream",
     "text": [
      "  (0, 721)\t0.4474716137670591\n",
      "  (0, 103)\t0.46834078770650434\n",
      "  (0, 578)\t0.3307567469796541\n",
      "  (0, 359)\t0.3849265892221217\n",
      "  (0, 514)\t0.31219598482886696\n",
      "  (0, 815)\t0.47475385594763736\n",
      "  (1, 412)\t0.38450556007151104\n",
      "  (1, 980)\t0.37884836214972395\n",
      "  (1, 989)\t0.31158285934143953\n",
      "  (1, 206)\t0.2425921087111874\n",
      "  (1, 627)\t0.38757460788291465\n",
      "  (1, 449)\t0.37884836214972395\n",
      "  (1, 941)\t0.36905883971096276\n",
      "  (1, 542)\t0.35035695794191396\n",
      "  (2, 228)\t1.0\n",
      "  (3, 489)\t0.28795883654000126\n",
      "  (3, 563)\t0.38384800275006165\n",
      "  (3, 336)\t0.39722895386713963\n",
      "  (3, 361)\t0.3352443697769443\n",
      "  (3, 632)\t0.4714126930796241\n",
      "  (3, 812)\t0.5266221252370725\n",
      "  (4, 489)\t0.29419888672668854\n",
      "  (4, 689)\t0.4945876143555651\n",
      "  (4, 562)\t0.2434748532773989\n",
      "  (4, 405)\t0.5267004186928492\n",
      "  :\t:\n",
      "  (8525, 626)\t0.43905388926899785\n",
      "  (8525, 109)\t0.307872298893213\n",
      "  (8525, 730)\t0.4426722043856351\n",
      "  (8525, 872)\t0.3879750959502483\n",
      "  (8526, 489)\t0.26289706866781365\n",
      "  (8526, 562)\t0.21756990970675746\n",
      "  (8526, 585)\t0.46180297422243\n",
      "  (8526, 499)\t0.35628569003307115\n",
      "  (8526, 505)\t0.39612628527913896\n",
      "  (8526, 669)\t0.4485533950343314\n",
      "  (8526, 665)\t0.4303844835343922\n",
      "  (8527, 302)\t0.20750700145959164\n",
      "  (8527, 983)\t0.4055491577905157\n",
      "  (8527, 999)\t0.40004801723454314\n",
      "  (8527, 974)\t0.4563925043894873\n",
      "  (8527, 651)\t0.4346380716129643\n",
      "  (8527, 381)\t0.4850030283503584\n",
      "  (8528, 734)\t0.6878769648168221\n",
      "  (8528, 77)\t0.7258273081624833\n",
      "  (8529, 562)\t0.21314902545658984\n",
      "  (8529, 696)\t0.348133869166395\n",
      "  (8529, 613)\t0.4658812797762665\n",
      "  (8529, 735)\t0.47656935320216925\n",
      "  (8529, 962)\t0.48582778352912764\n",
      "  (8529, 872)\t0.3913795492610857\n"
     ]
    }
   ],
   "source": [
    "print(vecTor)"
   ]
  },
  {
   "cell_type": "code",
   "execution_count": null,
   "id": "cf015b45-1c70-401f-8344-2395978fda20",
   "metadata": {},
   "outputs": [],
   "source": []
  }
 ],
 "metadata": {
  "kernelspec": {
   "display_name": "Python 3 (ipykernel)",
   "language": "python",
   "name": "python3"
  },
  "language_info": {
   "codemirror_mode": {
    "name": "ipython",
    "version": 3
   },
   "file_extension": ".py",
   "mimetype": "text/x-python",
   "name": "python",
   "nbconvert_exporter": "python",
   "pygments_lexer": "ipython3",
   "version": "3.10.8"
  }
 },
 "nbformat": 4,
 "nbformat_minor": 5
}
